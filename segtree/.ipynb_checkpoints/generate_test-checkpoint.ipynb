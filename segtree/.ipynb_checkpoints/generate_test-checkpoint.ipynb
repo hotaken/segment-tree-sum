{
 "cells": [
  {
   "cell_type": "code",
   "execution_count": 33,
   "id": "f52a8b0e-569e-4ea2-ab71-1794e206b6bd",
   "metadata": {},
   "outputs": [],
   "source": [
    "import random\n",
    "random.seed()\n",
    "\n",
    "N = int(1e3)\n",
    "count = int(1e3)\n",
    "\n",
    "mas = []\n",
    "for i in range(int(N)):\n",
    "    mas.append(random.randint(0, 1e9))\n",
    "\n",
    "def suma(mas, l, r):\n",
    "    summ=0\n",
    "    for i in range(l,r):\n",
    "        summ+=mas[i]\n",
    "    return summ"
   ]
  },
  {
   "cell_type": "code",
   "execution_count": 34,
   "id": "dfb98998-2c38-40b7-8f2d-02dec555d1ba",
   "metadata": {},
   "outputs": [],
   "source": [
    "with open('input_generated.txt', 'w') as f:\n",
    "    f.write(str(N)+\" \"+str(count)+\"\\n\")\n",
    "    for i in range(N):\n",
    "        f.write(str(mas[i])+\" \")\n",
    "    f.write(\"\\n\")\n",
    "    for i in range(int(count)):\n",
    "        typ = random.randint(1,2)\n",
    "        if typ==1:\n",
    "            index=random.randint(0, N-1)\n",
    "            value=random.randint(0, 1e9)\n",
    "            mas[index]=value\n",
    "            f.write(str(typ)+\" \"+str(index)+\" \"+str(value)+\"\\n\")\n",
    "        else:\n",
    "            r=random.randint(1,N-1)\n",
    "            l=random.randint(0,r-1)\n",
    "            summ = suma(mas,l,r)\n",
    "            f.write(str(typ)+\" \"+str(l)+\" \"+str(r)+\" \"+str(summ)+\"\\n\")"
   ]
  },
  {
   "cell_type": "code",
   "execution_count": null,
   "id": "25d332ad-07ee-4b38-a7da-1c18fff1a504",
   "metadata": {},
   "outputs": [],
   "source": []
  }
 ],
 "metadata": {
  "kernelspec": {
   "display_name": "Python 3",
   "language": "python",
   "name": "python3"
  },
  "language_info": {
   "codemirror_mode": {
    "name": "ipython",
    "version": 3
   },
   "file_extension": ".py",
   "mimetype": "text/x-python",
   "name": "python",
   "nbconvert_exporter": "python",
   "pygments_lexer": "ipython3",
   "version": "3.9.1"
  }
 },
 "nbformat": 4,
 "nbformat_minor": 5
}
